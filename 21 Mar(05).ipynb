{
 "cells": [
  {
   "cell_type": "code",
   "execution_count": 1,
   "id": "bc525495-55f0-4b84-89f5-9005b4ba5104",
   "metadata": {},
   "outputs": [
    {
     "name": "stdout",
     "output_type": "stream",
     "text": [
      "[[6.250e+01 7.500e+00 6.875e+04]\n",
      " [7.500e+00 6.800e+00 2.600e+04]\n",
      " [6.875e+04 2.600e+04 1.450e+08]]\n"
     ]
    }
   ],
   "source": [
    "import numpy as np\n",
    "\n",
    "# create a sample dataset with 5 samples\n",
    "X = np.array([[35, 12, 50000],\n",
    "              [25, 16, 60000],\n",
    "              [40, 14, 70000],\n",
    "              [30, 12, 55000],\n",
    "              [45, 18, 80000]])\n",
    "\n",
    "# calculate the mean vector\n",
    "mean_X = np.mean(X, axis=0)\n",
    "\n",
    "# subtract the mean from X\n",
    "X_centered = X - mean_X\n",
    "\n",
    "# calculate the covariance matrix\n",
    "cov_X = 1/(X.shape[0]-1) * X_centered.T.dot(X_centered)\n",
    "\n",
    "# print the covariance matrix\n",
    "print(cov_X)\n"
   ]
  },
  {
   "cell_type": "code",
   "execution_count": null,
   "id": "9bc17870-15fb-47fe-b131-ece5b8790884",
   "metadata": {},
   "outputs": [],
   "source": []
  }
 ],
 "metadata": {
  "kernelspec": {
   "display_name": "Python 3 (ipykernel)",
   "language": "python",
   "name": "python3"
  },
  "language_info": {
   "codemirror_mode": {
    "name": "ipython",
    "version": 3
   },
   "file_extension": ".py",
   "mimetype": "text/x-python",
   "name": "python",
   "nbconvert_exporter": "python",
   "pygments_lexer": "ipython3",
   "version": "3.10.8"
  }
 },
 "nbformat": 4,
 "nbformat_minor": 5
}
