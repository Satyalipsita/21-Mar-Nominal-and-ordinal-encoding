{
 "cells": [
  {
   "cell_type": "code",
   "execution_count": null,
   "id": "61da36fe-6b07-49b4-a34d-20366a7dc4e0",
   "metadata": {},
   "outputs": [],
   "source": [
    "from sklearn.preprocessing import LabelEncoder\n",
    "\n",
    "# create a sample dataset\n",
    "data = [['red', 'small', 'wood'],\n",
    "        ['blue', 'medium', 'metal'],\n",
    "        ['green', 'large', 'plastic'],\n",
    "        ['red', 'medium', 'wood'],\n",
    "        ['green', 'small', 'metal']]\n",
    "\n",
    "# create label encoders for each feature\n",
    "label_encoders = [LabelEncoder() for _ in range(3)]\n",
    "\n",
    "# fit and transform each feature using its corresponding label encoder\n",
    "for i in range(3):\n",
    "    data[:, i] = label_encoders[i].fit_transform(data[:, i])\n",
    "\n",
    "# print the transformed data\n",
    "print(data)\n"
   ]
  }
 ],
 "metadata": {
  "kernelspec": {
   "display_name": "Python 3 (ipykernel)",
   "language": "python",
   "name": "python3"
  },
  "language_info": {
   "codemirror_mode": {
    "name": "ipython",
    "version": 3
   },
   "file_extension": ".py",
   "mimetype": "text/x-python",
   "name": "python",
   "nbconvert_exporter": "python",
   "pygments_lexer": "ipython3",
   "version": "3.10.8"
  }
 },
 "nbformat": 4,
 "nbformat_minor": 5
}
