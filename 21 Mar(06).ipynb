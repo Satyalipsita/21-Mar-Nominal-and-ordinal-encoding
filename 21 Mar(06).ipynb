{
 "cells": [
  {
   "cell_type": "code",
   "execution_count": null,
   "id": "335844db-4185-44f2-a91a-7347035d444d",
   "metadata": {},
   "outputs": [],
   "source": [
    "Q-6:\n",
    "    The choice of encoding technique depends on the specific problem and the algorithm being used.\n",
    "    Here are some common encoding techniques that can be used for the three categorical features:\n",
    "\n",
    "Binary Encoding: For the gender feature, we could use binary encoding, where male is represented \n",
    "as 0 and female is represented as 1. Binary encoding is useful when there are only two categories\n",
    "for a feature.\n",
    "\n",
    "One-Hot Encoding: For the employment status feature, we could use one-hot encoding, where we create \n",
    "three binary features: unemployed, part-time, and full-time. Each sample will have only one of these\n",
    "features as 1 and the others as 0. One-hot encoding is useful when there are multiple categories for \n",
    "a feature and there is no ordinal relationship between the categories.\n",
    "\n",
    "Ordinal Encoding: For the educational degree feature, we could use ordinal encoding, where we assign \n",
    "integer values to the categories based on their order. For example, we could assign 0 to BTech, \n",
    "1 to MTech, and 2 to PhD. Ordinal encoding is useful when there is an ordinal relationship between \n",
    "the categories.\n",
    "\n",
    "It's important to note that the choice of encoding technique can have an impact on the performance \n",
    "of the machine learning model. It's a good practice to try different encoding techniques and compare \n",
    "their performance to choose the best one for the specific problem and algorithm being used."
   ]
  }
 ],
 "metadata": {
  "kernelspec": {
   "display_name": "Python 3 (ipykernel)",
   "language": "python",
   "name": "python3"
  },
  "language_info": {
   "codemirror_mode": {
    "name": "ipython",
    "version": 3
   },
   "file_extension": ".py",
   "mimetype": "text/x-python",
   "name": "python",
   "nbconvert_exporter": "python",
   "pygments_lexer": "ipython3",
   "version": "3.10.8"
  }
 },
 "nbformat": 4,
 "nbformat_minor": 5
}
